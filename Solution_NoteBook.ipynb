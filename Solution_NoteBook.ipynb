{
 "cells": [
  {
   "cell_type": "code",
   "execution_count": 36,
   "metadata": {},
   "outputs": [],
   "source": [
    "%matplotlib inline\n",
    "from matplotlib import style\n",
    "style.use('fivethirtyeight')\n",
    "import matplotlib.pyplot as plt"
   ]
  },
  {
   "cell_type": "code",
   "execution_count": 37,
   "metadata": {},
   "outputs": [],
   "source": [
    "import numpy as np\n",
    "import pandas as pd"
   ]
  },
  {
   "cell_type": "code",
   "execution_count": 38,
   "metadata": {},
   "outputs": [],
   "source": [
    "import datetime as dt"
   ]
  },
  {
   "cell_type": "markdown",
   "metadata": {},
   "source": [
    "# Reflect Tables into SQLAlchemy ORM"
   ]
  },
  {
   "cell_type": "code",
   "execution_count": 39,
   "metadata": {},
   "outputs": [],
   "source": [
    "# Python SQL toolkit and Object Relational Mapper\n",
    "import sqlalchemy\n",
    "from sqlalchemy.ext.automap import automap_base\n",
    "from sqlalchemy.orm import Session\n",
    "from sqlalchemy import create_engine, func, inspect"
   ]
  },
  {
   "cell_type": "code",
   "execution_count": 40,
   "metadata": {},
   "outputs": [],
   "source": [
    "engine = create_engine(\"sqlite:///Resources/hawaii.sqlite\")"
   ]
  },
  {
   "cell_type": "code",
   "execution_count": 41,
   "metadata": {},
   "outputs": [
    {
     "data": {
      "text/plain": [
       "['measurement', 'station']"
      ]
     },
     "execution_count": 41,
     "metadata": {},
     "output_type": "execute_result"
    }
   ],
   "source": [
    "inspector = inspect(engine)\n",
    "inspector.get_table_names()"
   ]
  },
  {
   "cell_type": "code",
   "execution_count": 42,
   "metadata": {},
   "outputs": [],
   "source": [
    "# reflect an existing database into a new model\n",
    "Base = automap_base()\n",
    "# reflect the tables\n",
    "Base.prepare(engine,reflect=True)"
   ]
  },
  {
   "cell_type": "code",
   "execution_count": 43,
   "metadata": {},
   "outputs": [
    {
     "data": {
      "text/plain": [
       "['measurement', 'station']"
      ]
     },
     "execution_count": 43,
     "metadata": {},
     "output_type": "execute_result"
    }
   ],
   "source": [
    "# We can view all of the classes that automap found\n",
    "Base.classes.keys()"
   ]
  },
  {
   "cell_type": "code",
   "execution_count": 44,
   "metadata": {},
   "outputs": [],
   "source": [
    "# Save references to each table\n",
    "measurement = Base.classes.measurement\n",
    "station = Base.classes.station"
   ]
  },
  {
   "cell_type": "code",
   "execution_count": 45,
   "metadata": {},
   "outputs": [],
   "source": [
    "# Create our session (link) from Python to the DB\n",
    "session = Session(engine)"
   ]
  },
  {
   "cell_type": "markdown",
   "metadata": {},
   "source": [
    "# Exploratory Climate Analysis"
   ]
  },
  {
   "cell_type": "code",
   "execution_count": 46,
   "metadata": {},
   "outputs": [
    {
     "data": {
      "text/plain": [
       "9"
      ]
     },
     "execution_count": 46,
     "metadata": {},
     "output_type": "execute_result"
    }
   ],
   "source": [
    "# Determine how many stations there are:\n",
    "stations_count = session.query(measurement.station).distinct().count()\n",
    "stations_count"
   ]
  },
  {
   "cell_type": "code",
   "execution_count": 47,
   "metadata": {},
   "outputs": [
    {
     "data": {
      "text/plain": [
       "['USC00519397',\n",
       " 'USC00513117',\n",
       " 'USC00514830',\n",
       " 'USC00517948',\n",
       " 'USC00518838',\n",
       " 'USC00519523',\n",
       " 'USC00519281',\n",
       " 'USC00511918',\n",
       " 'USC00516128']"
      ]
     },
     "execution_count": 47,
     "metadata": {},
     "output_type": "execute_result"
    }
   ],
   "source": [
    "stations_names = session.query(measurement.station).distinct().all()\n",
    "stations_names_list = [name[0] for name in stations_names]\n",
    "stations_names_list"
   ]
  },
  {
   "cell_type": "code",
   "execution_count": 48,
   "metadata": {},
   "outputs": [
    {
     "data": {
      "text/plain": [
       "datetime.datetime(2017, 8, 23, 0, 0)"
      ]
     },
     "execution_count": 48,
     "metadata": {},
     "output_type": "execute_result"
    }
   ],
   "source": [
    "# Determine last date (most recent) in measurement table\n",
    "last_date = session.query(func.max(measurement.date)).first()\n",
    "# Parse date into datetime object\n",
    "last_date_dt = dt.datetime.strptime(last_date[0],'%Y-%m-%d')\n",
    "# Calculate the date 1 year ago from the last data point in the database\n",
    "last_date_dt"
   ]
  },
  {
   "cell_type": "code",
   "execution_count": 49,
   "metadata": {},
   "outputs": [
    {
     "data": {
      "text/plain": [
       "datetime.datetime(2016, 8, 22, 0, 0)"
      ]
     },
     "execution_count": 49,
     "metadata": {},
     "output_type": "execute_result"
    }
   ],
   "source": [
    "last_date_dt  - dt.timedelta(days=366)"
   ]
  },
  {
   "cell_type": "code",
   "execution_count": 56,
   "metadata": {},
   "outputs": [],
   "source": [
    "# Precipitation (across all 9 measurement stations) for each day of the most recent year\n",
    "results = session.query(measurement.date,measurement.prcp).\\\n",
    "filter(measurement.date > (last_date_dt  - dt.timedelta(days=366))).all()\n",
    "# read restults into a dictionary using a dict comprehension\n",
    "dict = {result[0]:result[1] for result in results}"
   ]
  },
  {
   "cell_type": "code",
   "execution_count": 58,
   "metadata": {
    "scrolled": true
   },
   "outputs": [
    {
     "data": {
      "text/html": [
       "<div>\n",
       "<style scoped>\n",
       "    .dataframe tbody tr th:only-of-type {\n",
       "        vertical-align: middle;\n",
       "    }\n",
       "\n",
       "    .dataframe tbody tr th {\n",
       "        vertical-align: top;\n",
       "    }\n",
       "\n",
       "    .dataframe thead th {\n",
       "        text-align: right;\n",
       "    }\n",
       "</style>\n",
       "<table border=\"1\" class=\"dataframe\">\n",
       "  <thead>\n",
       "    <tr style=\"text-align: right;\">\n",
       "      <th></th>\n",
       "      <th>Precipitation</th>\n",
       "    </tr>\n",
       "  </thead>\n",
       "  <tbody>\n",
       "    <tr>\n",
       "      <th>2016-08-23</th>\n",
       "      <td>0.00</td>\n",
       "    </tr>\n",
       "    <tr>\n",
       "      <th>2016-08-23</th>\n",
       "      <td>0.02</td>\n",
       "    </tr>\n",
       "    <tr>\n",
       "      <th>2016-08-23</th>\n",
       "      <td>0.05</td>\n",
       "    </tr>\n",
       "    <tr>\n",
       "      <th>2016-08-23</th>\n",
       "      <td>0.70</td>\n",
       "    </tr>\n",
       "    <tr>\n",
       "      <th>2016-08-23</th>\n",
       "      <td>0.15</td>\n",
       "    </tr>\n",
       "    <tr>\n",
       "      <th>...</th>\n",
       "      <td>...</td>\n",
       "    </tr>\n",
       "    <tr>\n",
       "      <th>2017-08-22</th>\n",
       "      <td>0.50</td>\n",
       "    </tr>\n",
       "    <tr>\n",
       "      <th>2017-08-23</th>\n",
       "      <td>0.00</td>\n",
       "    </tr>\n",
       "    <tr>\n",
       "      <th>2017-08-23</th>\n",
       "      <td>0.08</td>\n",
       "    </tr>\n",
       "    <tr>\n",
       "      <th>2017-08-23</th>\n",
       "      <td>0.00</td>\n",
       "    </tr>\n",
       "    <tr>\n",
       "      <th>2017-08-23</th>\n",
       "      <td>0.45</td>\n",
       "    </tr>\n",
       "  </tbody>\n",
       "</table>\n",
       "<p>2021 rows × 1 columns</p>\n",
       "</div>"
      ],
      "text/plain": [
       "            Precipitation\n",
       "2016-08-23           0.00\n",
       "2016-08-23           0.02\n",
       "2016-08-23           0.05\n",
       "2016-08-23           0.70\n",
       "2016-08-23           0.15\n",
       "...                   ...\n",
       "2017-08-22           0.50\n",
       "2017-08-23           0.00\n",
       "2017-08-23           0.08\n",
       "2017-08-23           0.00\n",
       "2017-08-23           0.45\n",
       "\n",
       "[2021 rows x 1 columns]"
      ]
     },
     "execution_count": 58,
     "metadata": {},
     "output_type": "execute_result"
    }
   ],
   "source": [
    "# List comprehension to create date list in datetime datetype and precipitation (already in float datetype)\n",
    "dates = [dt.datetime.strptime(result[0],'%Y-%m-%d') for result in results]\n",
    "precipitation = [result[1] for result in results]\n",
    "# Save the query results as a Pandas DataFrame and set the index to the date column\n",
    "# Sort the dataframe by date\n",
    "df = pd.DataFrame(precipitation, index=dates, columns=[\"Precipitation\"])\n",
    "# df.fillna(0, inplace=True)\n",
    "df.dropna(inplace=True)\n",
    "df.sort_index(ascending=True)"
   ]
  },
  {
   "cell_type": "code",
   "execution_count": 131,
   "metadata": {},
   "outputs": [
    {
     "data": {
      "image/png": "[encoded data removed]",
      "text/plain": [
       "<Figure size 1008x288 with 1 Axes>"
      ]
     },
     "metadata": {},
     "output_type": "display_data"
    }
   ],
   "source": [
    "df.plot(title=\"Prior Year Rainfall (all stations)\", xlabel=\"Date\",ylabel=\"Rainfall (inches)\",legend=False, figsize=(14,4), fontsize=10)\n",
    "plt.savefig('Images/prior_year_rainfall.png')\n",
    "plt.show()"
   ]
  },
  {
   "cell_type": "code",
   "execution_count": 132,
   "metadata": {},
   "outputs": [
    {
     "data": {
      "text/html": [
       "<div>\n",
       "<style scoped>\n",
       "    .dataframe tbody tr th:only-of-type {\n",
       "        vertical-align: middle;\n",
       "    }\n",
       "\n",
       "    .dataframe tbody tr th {\n",
       "        vertical-align: top;\n",
       "    }\n",
       "\n",
       "    .dataframe thead th {\n",
       "        text-align: right;\n",
       "    }\n",
       "</style>\n",
       "<table border=\"1\" class=\"dataframe\">\n",
       "  <thead>\n",
       "    <tr style=\"text-align: right;\">\n",
       "      <th></th>\n",
       "      <th>Precipitation</th>\n",
       "    </tr>\n",
       "  </thead>\n",
       "  <tbody>\n",
       "    <tr>\n",
       "      <th>count</th>\n",
       "      <td>2021.000000</td>\n",
       "    </tr>\n",
       "    <tr>\n",
       "      <th>mean</th>\n",
       "      <td>0.177279</td>\n",
       "    </tr>\n",
       "    <tr>\n",
       "      <th>std</th>\n",
       "      <td>0.461190</td>\n",
       "    </tr>\n",
       "    <tr>\n",
       "      <th>min</th>\n",
       "      <td>0.000000</td>\n",
       "    </tr>\n",
       "    <tr>\n",
       "      <th>25%</th>\n",
       "      <td>0.000000</td>\n",
       "    </tr>\n",
       "    <tr>\n",
       "      <th>50%</th>\n",
       "      <td>0.020000</td>\n",
       "    </tr>\n",
       "    <tr>\n",
       "      <th>75%</th>\n",
       "      <td>0.130000</td>\n",
       "    </tr>\n",
       "    <tr>\n",
       "      <th>max</th>\n",
       "      <td>6.700000</td>\n",
       "    </tr>\n",
       "  </tbody>\n",
       "</table>\n",
       "</div>"
      ],
      "text/plain": [
       "       Precipitation\n",
       "count    2021.000000\n",
       "mean        0.177279\n",
       "std         0.461190\n",
       "min         0.000000\n",
       "25%         0.000000\n",
       "50%         0.020000\n",
       "75%         0.130000\n",
       "max         6.700000"
      ]
     },
     "execution_count": 132,
     "metadata": {},
     "output_type": "execute_result"
    }
   ],
   "source": [
    "# Use Pandas to calcualte the summary statistics for the precipitation data\n",
    "df.describe()"
   ]
  },
  {
   "cell_type": "code",
   "execution_count": 20,
   "metadata": {},
   "outputs": [
    {
     "data": {
      "text/plain": [
       "9"
      ]
     },
     "execution_count": 20,
     "metadata": {},
     "output_type": "execute_result"
    }
   ],
   "source": [
    "# Design a query to show how many stations are available in this dataset?\n",
    "stations_count = session.query(measurement.station).distinct().count()\n",
    "stations_count"
   ]
  },
  {
   "cell_type": "code",
   "execution_count": 21,
   "metadata": {},
   "outputs": [
    {
     "data": {
      "text/plain": [
       "[('USC00519281', 2772),\n",
       " ('USC00519397', 2724),\n",
       " ('USC00513117', 2709),\n",
       " ('USC00519523', 2669),\n",
       " ('USC00516128', 2612),\n",
       " ('USC00514830', 2202),\n",
       " ('USC00511918', 1979),\n",
       " ('USC00517948', 1372),\n",
       " ('USC00518838', 511)]"
      ]
     },
     "execution_count": 21,
     "metadata": {},
     "output_type": "execute_result"
    }
   ],
   "source": [
    "# What are the most active stations? (i.e. what stations have the most rows)?\n",
    "# List the stations and the counts in descending order.\n",
    "rows_per_station = session.query(measurement.station, func.count(measurement.id)).group_by(measurement.station).\\\n",
    "order_by(func.count(measurement.id).desc()).all()\n",
    "rows_per_station"
   ]
  },
  {
   "cell_type": "code",
   "execution_count": 83,
   "metadata": {},
   "outputs": [
    {
     "data": {
      "text/plain": [
       "'USC00519281'"
      ]
     },
     "execution_count": 83,
     "metadata": {},
     "output_type": "execute_result"
    }
   ],
   "source": [
    "most_active_station = session.query(measurement.station).group_by(measurement.station).\\\n",
    "order_by(func.count(measurement.id).desc()).first()[0]\n",
    "most_active_station"
   ]
  },
  {
   "cell_type": "code",
   "execution_count": 84,
   "metadata": {},
   "outputs": [
    {
     "data": {
      "text/plain": [
       "{'2016-08-23': 77.0,\n",
       " '2016-08-24': 77.0,\n",
       " '2016-08-25': 80.0,\n",
       " '2016-08-26': 80.0,\n",
       " '2016-08-27': 75.0,\n",
       " '2016-08-28': 73.0,\n",
       " '2016-08-29': 78.0,\n",
       " '2016-08-30': 77.0,\n",
       " '2016-08-31': 78.0,\n",
       " '2016-09-01': 80.0,\n",
       " '2016-09-02': 80.0,\n",
       " '2016-09-03': 78.0,\n",
       " '2016-09-04': 78.0,\n",
       " '2016-09-05': 78.0,\n",
       " '2016-09-06': 73.0,\n",
       " '2016-09-07': 74.0,\n",
       " '2016-09-08': 80.0,\n",
       " '2016-09-09': 79.0,\n",
       " '2016-09-10': 77.0,\n",
       " '2016-09-11': 80.0,\n",
       " '2016-09-12': 76.0,\n",
       " '2016-09-13': 79.0,\n",
       " '2016-09-14': 75.0,\n",
       " '2016-09-15': 79.0,\n",
       " '2016-09-16': 78.0,\n",
       " '2016-09-17': 79.0,\n",
       " '2016-09-18': 78.0,\n",
       " '2016-09-19': 78.0,\n",
       " '2016-09-20': 76.0,\n",
       " '2016-09-21': 74.0,\n",
       " '2016-09-22': 77.0,\n",
       " '2016-09-23': 78.0,\n",
       " '2016-09-24': 79.0,\n",
       " '2016-09-25': 79.0,\n",
       " '2016-09-26': 77.0,\n",
       " '2016-09-27': 80.0,\n",
       " '2016-09-28': 78.0,\n",
       " '2016-09-29': 78.0,\n",
       " '2016-09-30': 78.0,\n",
       " '2016-10-01': 77.0,\n",
       " '2016-10-02': 79.0,\n",
       " '2016-10-03': 79.0,\n",
       " '2016-10-04': 79.0,\n",
       " '2016-10-05': 79.0,\n",
       " '2016-10-06': 75.0,\n",
       " '2016-10-07': 76.0,\n",
       " '2016-10-08': 73.0,\n",
       " '2016-10-09': 72.0,\n",
       " '2016-10-10': 71.0,\n",
       " '2016-10-11': 77.0,\n",
       " '2016-10-12': 79.0,\n",
       " '2016-10-13': 78.0,\n",
       " '2016-10-14': 79.0,\n",
       " '2016-10-15': 77.0,\n",
       " '2016-10-16': 79.0,\n",
       " '2016-10-17': 77.0,\n",
       " '2016-10-18': 78.0,\n",
       " '2016-10-19': 78.0,\n",
       " '2016-10-20': 78.0,\n",
       " '2016-10-21': 78.0,\n",
       " '2016-10-22': 77.0,\n",
       " '2016-10-23': 74.0,\n",
       " '2016-10-24': 75.0,\n",
       " '2016-10-25': 76.0,\n",
       " '2016-10-26': 73.0,\n",
       " '2016-10-27': 76.0,\n",
       " '2016-10-28': 74.0,\n",
       " '2016-10-29': 77.0,\n",
       " '2016-10-30': 76.0,\n",
       " '2016-10-31': 76.0,\n",
       " '2016-11-01': 74.0,\n",
       " '2016-11-02': 75.0,\n",
       " '2016-11-03': 75.0,\n",
       " '2016-11-04': 75.0,\n",
       " '2016-11-05': 75.0,\n",
       " '2016-11-06': 71.0,\n",
       " '2016-11-07': 63.0,\n",
       " '2016-11-08': 70.0,\n",
       " '2016-11-09': 68.0,\n",
       " '2016-11-10': 67.0,\n",
       " '2016-11-11': 77.0,\n",
       " '2016-11-12': 74.0,\n",
       " '2016-11-13': 77.0,\n",
       " '2016-11-14': 76.0,\n",
       " '2016-11-15': 76.0,\n",
       " '2016-11-16': 75.0,\n",
       " '2016-11-17': 76.0,\n",
       " '2016-11-18': 75.0,\n",
       " '2016-11-19': 73.0,\n",
       " '2016-11-20': 75.0,\n",
       " '2016-11-21': 73.0,\n",
       " '2016-11-22': 75.0,\n",
       " '2016-11-23': 74.0,\n",
       " '2016-11-24': 75.0,\n",
       " '2016-11-25': 74.0,\n",
       " '2016-11-26': 75.0,\n",
       " '2016-11-27': 73.0,\n",
       " '2016-11-28': 75.0,\n",
       " '2016-11-29': 73.0,\n",
       " '2016-11-30': 73.0,\n",
       " '2016-12-01': 74.0,\n",
       " '2016-12-02': 70.0,\n",
       " '2016-12-03': 72.0,\n",
       " '2016-12-04': 70.0,\n",
       " '2016-12-05': 67.0,\n",
       " '2016-12-06': 67.0,\n",
       " '2016-12-07': 69.0,\n",
       " '2016-12-08': 70.0,\n",
       " '2016-12-09': 68.0,\n",
       " '2016-12-10': 69.0,\n",
       " '2016-12-11': 69.0,\n",
       " '2016-12-12': 66.0,\n",
       " '2016-12-13': 65.0,\n",
       " '2016-12-14': 68.0,\n",
       " '2016-12-15': 62.0,\n",
       " '2016-12-16': 75.0,\n",
       " '2016-12-17': 70.0,\n",
       " '2016-12-18': 69.0,\n",
       " '2016-12-19': 76.0,\n",
       " '2016-12-20': 76.0,\n",
       " '2016-12-21': 74.0,\n",
       " '2016-12-22': 73.0,\n",
       " '2016-12-23': 71.0,\n",
       " '2016-12-24': 74.0,\n",
       " '2016-12-25': 74.0,\n",
       " '2016-12-26': 72.0,\n",
       " '2016-12-27': 71.0,\n",
       " '2016-12-28': 72.0,\n",
       " '2016-12-29': 74.0,\n",
       " '2016-12-30': 69.0,\n",
       " '2016-12-31': 67.0,\n",
       " '2017-01-01': 72.0,\n",
       " '2017-01-02': 70.0,\n",
       " '2017-01-03': 64.0,\n",
       " '2017-01-04': 63.0,\n",
       " '2017-01-05': 63.0,\n",
       " '2017-01-06': 62.0,\n",
       " '2017-01-07': 70.0,\n",
       " '2017-01-08': 70.0,\n",
       " '2017-01-09': 62.0,\n",
       " '2017-01-10': 62.0,\n",
       " '2017-01-11': 63.0,\n",
       " '2017-01-12': 65.0,\n",
       " '2017-01-13': 69.0,\n",
       " '2017-01-14': 77.0,\n",
       " '2017-01-15': 70.0,\n",
       " '2017-01-16': 74.0,\n",
       " '2017-01-17': 69.0,\n",
       " '2017-01-18': 72.0,\n",
       " '2017-01-19': 71.0,\n",
       " '2017-01-20': 69.0,\n",
       " '2017-01-21': 71.0,\n",
       " '2017-01-22': 71.0,\n",
       " '2017-01-23': 72.0,\n",
       " '2017-01-24': 72.0,\n",
       " '2017-01-25': 69.0,\n",
       " '2017-01-26': 70.0,\n",
       " '2017-01-27': 66.0,\n",
       " '2017-01-28': 65.0,\n",
       " '2017-01-29': 69.0,\n",
       " '2017-01-30': 68.0,\n",
       " '2017-01-31': 68.0,\n",
       " '2017-02-01': 68.0,\n",
       " '2017-02-02': 59.0,\n",
       " '2017-02-03': 60.0,\n",
       " '2017-02-04': 70.0,\n",
       " '2017-02-05': 73.0,\n",
       " '2017-02-06': 75.0,\n",
       " '2017-02-07': 64.0,\n",
       " '2017-02-08': 59.0,\n",
       " '2017-02-09': 59.0,\n",
       " '2017-02-10': 62.0,\n",
       " '2017-02-11': 68.0,\n",
       " '2017-02-12': 70.0,\n",
       " '2017-02-13': 73.0,\n",
       " '2017-02-14': 79.0,\n",
       " '2017-02-15': 75.0,\n",
       " '2017-02-16': 65.0,\n",
       " '2017-02-17': 70.0,\n",
       " '2017-02-18': 74.0,\n",
       " '2017-02-19': 70.0,\n",
       " '2017-02-20': 70.0,\n",
       " '2017-02-21': 71.0,\n",
       " '2017-02-22': 71.0,\n",
       " '2017-02-23': 71.0,\n",
       " '2017-02-24': 69.0,\n",
       " '2017-02-25': 61.0,\n",
       " '2017-02-26': 67.0,\n",
       " '2017-02-27': 65.0,\n",
       " '2017-02-28': 72.0,\n",
       " '2017-03-01': 71.0,\n",
       " '2017-03-02': 73.0,\n",
       " '2017-03-03': 72.0,\n",
       " '2017-03-04': 77.0,\n",
       " '2017-03-05': 73.0,\n",
       " '2017-03-06': 67.0,\n",
       " '2017-03-07': 62.0,\n",
       " '2017-03-08': 64.0,\n",
       " '2017-03-09': 67.0,\n",
       " '2017-03-10': 66.0,\n",
       " '2017-03-11': 81.0,\n",
       " '2017-03-12': 69.0,\n",
       " '2017-03-13': 66.0,\n",
       " '2017-03-14': 67.0,\n",
       " '2017-03-15': 69.0,\n",
       " '2017-03-16': 66.0,\n",
       " '2017-03-17': 68.0,\n",
       " '2017-03-18': 65.0,\n",
       " '2017-03-19': 74.0,\n",
       " '2017-03-20': 69.0,\n",
       " '2017-03-21': 72.0,\n",
       " '2017-03-22': 73.0,\n",
       " '2017-03-23': 72.0,\n",
       " '2017-03-24': 71.0,\n",
       " '2017-03-25': 76.0,\n",
       " '2017-03-26': 77.0,\n",
       " '2017-03-27': 76.0,\n",
       " '2017-03-28': 74.0,\n",
       " '2017-03-29': 68.0,\n",
       " '2017-03-30': 73.0,\n",
       " '2017-03-31': 71.0,\n",
       " '2017-04-01': 74.0,\n",
       " '2017-04-02': 75.0,\n",
       " '2017-04-03': 70.0,\n",
       " '2017-04-04': 67.0,\n",
       " '2017-04-05': 71.0,\n",
       " '2017-04-06': 67.0,\n",
       " '2017-04-07': 74.0,\n",
       " '2017-04-08': 77.0,\n",
       " '2017-04-09': 78.0,\n",
       " '2017-04-10': 67.0,\n",
       " '2017-04-11': 70.0,\n",
       " '2017-04-12': 69.0,\n",
       " '2017-04-13': 69.0,\n",
       " '2017-04-14': 74.0,\n",
       " '2017-04-15': 78.0,\n",
       " '2017-04-16': 71.0,\n",
       " '2017-04-17': 67.0,\n",
       " '2017-04-18': 68.0,\n",
       " '2017-04-19': 67.0,\n",
       " '2017-04-20': 76.0,\n",
       " '2017-04-21': 69.0,\n",
       " '2017-04-22': 72.0,\n",
       " '2017-04-23': 76.0,\n",
       " '2017-04-24': 68.0,\n",
       " '2017-04-25': 72.0,\n",
       " '2017-04-26': 74.0,\n",
       " '2017-04-27': 70.0,\n",
       " '2017-04-28': 67.0,\n",
       " '2017-04-29': 72.0,\n",
       " '2017-04-30': 60.0,\n",
       " '2017-05-01': 65.0,\n",
       " '2017-05-02': 75.0,\n",
       " '2017-05-03': 70.0,\n",
       " '2017-05-04': 75.0,\n",
       " '2017-05-05': 70.0,\n",
       " '2017-05-06': 79.0,\n",
       " '2017-05-07': 75.0,\n",
       " '2017-05-08': 70.0,\n",
       " '2017-05-09': 67.0,\n",
       " '2017-05-10': 74.0,\n",
       " '2017-05-11': 70.0,\n",
       " '2017-05-12': 75.0,\n",
       " '2017-05-13': 76.0,\n",
       " '2017-05-14': 77.0,\n",
       " '2017-05-15': 74.0,\n",
       " '2017-05-16': 74.0,\n",
       " '2017-05-17': 74.0,\n",
       " '2017-05-18': 69.0,\n",
       " '2017-05-19': 68.0,\n",
       " '2017-05-20': 76.0,\n",
       " '2017-05-21': 74.0,\n",
       " '2017-05-22': 71.0,\n",
       " '2017-05-23': 71.0,\n",
       " '2017-05-24': 74.0,\n",
       " '2017-05-25': 74.0,\n",
       " '2017-05-26': 74.0,\n",
       " '2017-05-27': 74.0,\n",
       " '2017-05-28': 80.0,\n",
       " '2017-05-29': 74.0,\n",
       " '2017-05-30': 72.0,\n",
       " '2017-05-31': 75.0,\n",
       " '2017-06-01': 80.0,\n",
       " '2017-06-02': 76.0,\n",
       " '2017-06-03': 76.0,\n",
       " '2017-06-04': 77.0,\n",
       " '2017-06-05': 75.0,\n",
       " '2017-06-06': 75.0,\n",
       " '2017-06-07': 75.0,\n",
       " '2017-06-08': 75.0,\n",
       " '2017-06-09': 72.0,\n",
       " '2017-06-10': 74.0,\n",
       " '2017-06-11': 74.0,\n",
       " '2017-06-12': 74.0,\n",
       " '2017-06-13': 76.0,\n",
       " '2017-06-14': 74.0,\n",
       " '2017-06-15': 75.0,\n",
       " '2017-06-16': 73.0,\n",
       " '2017-06-17': 79.0,\n",
       " '2017-06-18': 75.0,\n",
       " '2017-06-19': 72.0,\n",
       " '2017-06-20': 72.0,\n",
       " '2017-06-21': 74.0,\n",
       " '2017-06-22': 72.0,\n",
       " '2017-06-23': 72.0,\n",
       " '2017-06-24': 77.0,\n",
       " '2017-06-25': 71.0,\n",
       " '2017-06-26': 73.0,\n",
       " '2017-06-27': 76.0,\n",
       " '2017-06-28': 77.0,\n",
       " '2017-06-29': 76.0,\n",
       " '2017-06-30': 76.0,\n",
       " '2017-07-01': 79.0,\n",
       " '2017-07-02': 81.0,\n",
       " '2017-07-03': 76.0,\n",
       " '2017-07-04': 78.0,\n",
       " '2017-07-05': 77.0,\n",
       " '2017-07-06': 74.0,\n",
       " '2017-07-07': 75.0,\n",
       " '2017-07-08': 78.0,\n",
       " '2017-07-09': 78.0,\n",
       " '2017-07-10': 69.0,\n",
       " '2017-07-11': 72.0,\n",
       " '2017-07-12': 74.0,\n",
       " '2017-07-13': 74.0,\n",
       " '2017-07-14': 76.0,\n",
       " '2017-07-15': 80.0,\n",
       " '2017-07-16': 80.0,\n",
       " '2017-07-17': 76.0,\n",
       " '2017-07-18': 76.0,\n",
       " '2017-07-19': 76.0,\n",
       " '2017-07-20': 77.0,\n",
       " '2017-07-21': 77.0,\n",
       " '2017-07-22': 77.0,\n",
       " '2017-07-23': 82.0,\n",
       " '2017-07-24': 75.0,\n",
       " '2017-07-25': 77.0,\n",
       " '2017-07-26': 75.0,\n",
       " '2017-07-27': 76.0,\n",
       " '2017-07-28': 81.0,\n",
       " '2017-07-29': 82.0,\n",
       " '2017-07-30': 81.0,\n",
       " '2017-07-31': 76.0,\n",
       " '2017-08-04': 77.0,\n",
       " '2017-08-05': 82.0,\n",
       " '2017-08-06': 83.0,\n",
       " '2017-08-13': 77.0,\n",
       " '2017-08-14': 77.0,\n",
       " '2017-08-15': 77.0,\n",
       " '2017-08-16': 76.0,\n",
       " '2017-08-17': 76.0,\n",
       " '2017-08-18': 79.0}"
      ]
     },
     "execution_count": 84,
     "metadata": {},
     "output_type": "execute_result"
    }
   ],
   "source": [
    "temp_from_most_active = session.query(measurement.date, measurement.tobs).\\\n",
    "filter(measurement.station==most_active_station).\\\n",
    "filter(measurement.date > (last_date_dt  - dt.timedelta(days=366))).all()\n",
    "most_active_station_dict = {result[0]:result[1] for result in temp_from_most_active}\n",
    "most_active_station_dict"
   ]
  },
  {
   "cell_type": "code",
   "execution_count": 22,
   "metadata": {},
   "outputs": [
    {
     "data": {
      "text/plain": [
       "[(85.0, 54.0, 71.66378066378067)]"
      ]
     },
     "execution_count": 22,
     "metadata": {},
     "output_type": "execute_result"
    }
   ],
   "source": [
    "# Using the station id from the previous query, calculate the lowest temperature recorded, \n",
    "# highest temperature recorded, and average temperature of the most active station?\n",
    "session.query(func.max(measurement.tobs),func.min(measurement.tobs), func.avg(measurement.tobs)).\\\n",
    "filter(measurement.station == 'USC00519281').all()"
   ]
  },
  {
   "cell_type": "code",
   "execution_count": 23,
   "metadata": {
    "scrolled": true
   },
   "outputs": [
    {
     "data": {
      "text/plain": [
       "[('USC00519281', 2772),\n",
       " ('USC00519397', 2724),\n",
       " ('USC00513117', 2709),\n",
       " ('USC00519523', 2669),\n",
       " ('USC00516128', 2612),\n",
       " ('USC00514830', 2202),\n",
       " ('USC00511918', 1979),\n",
       " ('USC00517948', 1372),\n",
       " ('USC00518838', 511)]"
      ]
     },
     "execution_count": 23,
     "metadata": {},
     "output_type": "execute_result"
    }
   ],
   "source": [
    "# Choose the station with the highest number of temperature observations.\n",
    "session.query(measurement.station, func.count(measurement.tobs)).filter(measurement.tobs != 'None').\\\n",
    "group_by(measurement.station).order_by(func.count(measurement.tobs).desc()).all()"
   ]
  },
  {
   "cell_type": "code",
   "execution_count": 87,
   "metadata": {},
   "outputs": [
    {
     "data": {
      "text/plain": [
       "('2016-08-23', 77.0)"
      ]
     },
     "execution_count": 87,
     "metadata": {},
     "output_type": "execute_result"
    }
   ],
   "source": [
    "results_2  = session.query(measurement.date, measurement.tobs).filter(measurement.station == 'USC00519281').\\\n",
    "filter(measurement.date > (last_date_dt  - dt.timedelta(days=366))).all()\n",
    "results_2[0]"
   ]
  },
  {
   "cell_type": "code",
   "execution_count": 88,
   "metadata": {},
   "outputs": [
    {
     "data": {
      "text/html": [
       "<div>\n",
       "<style scoped>\n",
       "    .dataframe tbody tr th:only-of-type {\n",
       "        vertical-align: middle;\n",
       "    }\n",
       "\n",
       "    .dataframe tbody tr th {\n",
       "        vertical-align: top;\n",
       "    }\n",
       "\n",
       "    .dataframe thead th {\n",
       "        text-align: right;\n",
       "    }\n",
       "</style>\n",
       "<table border=\"1\" class=\"dataframe\">\n",
       "  <thead>\n",
       "    <tr style=\"text-align: right;\">\n",
       "      <th></th>\n",
       "      <th>Temperature</th>\n",
       "    </tr>\n",
       "  </thead>\n",
       "  <tbody>\n",
       "    <tr>\n",
       "      <th>2016-08-23</th>\n",
       "      <td>77.0</td>\n",
       "    </tr>\n",
       "    <tr>\n",
       "      <th>2016-08-24</th>\n",
       "      <td>77.0</td>\n",
       "    </tr>\n",
       "    <tr>\n",
       "      <th>2016-08-25</th>\n",
       "      <td>80.0</td>\n",
       "    </tr>\n",
       "    <tr>\n",
       "      <th>2016-08-26</th>\n",
       "      <td>80.0</td>\n",
       "    </tr>\n",
       "    <tr>\n",
       "      <th>2016-08-27</th>\n",
       "      <td>75.0</td>\n",
       "    </tr>\n",
       "    <tr>\n",
       "      <th>...</th>\n",
       "      <td>...</td>\n",
       "    </tr>\n",
       "    <tr>\n",
       "      <th>2017-08-14</th>\n",
       "      <td>77.0</td>\n",
       "    </tr>\n",
       "    <tr>\n",
       "      <th>2017-08-15</th>\n",
       "      <td>77.0</td>\n",
       "    </tr>\n",
       "    <tr>\n",
       "      <th>2017-08-16</th>\n",
       "      <td>76.0</td>\n",
       "    </tr>\n",
       "    <tr>\n",
       "      <th>2017-08-17</th>\n",
       "      <td>76.0</td>\n",
       "    </tr>\n",
       "    <tr>\n",
       "      <th>2017-08-18</th>\n",
       "      <td>79.0</td>\n",
       "    </tr>\n",
       "  </tbody>\n",
       "</table>\n",
       "<p>352 rows × 1 columns</p>\n",
       "</div>"
      ],
      "text/plain": [
       "            Temperature\n",
       "2016-08-23         77.0\n",
       "2016-08-24         77.0\n",
       "2016-08-25         80.0\n",
       "2016-08-26         80.0\n",
       "2016-08-27         75.0\n",
       "...                 ...\n",
       "2017-08-14         77.0\n",
       "2017-08-15         77.0\n",
       "2017-08-16         76.0\n",
       "2017-08-17         76.0\n",
       "2017-08-18         79.0\n",
       "\n",
       "[352 rows x 1 columns]"
      ]
     },
     "execution_count": 88,
     "metadata": {},
     "output_type": "execute_result"
    }
   ],
   "source": [
    "# Query the last 12 months of temperature observation data for this station and plot the results as a histogram\n",
    "results_2  = session.query(measurement.date, measurement.tobs).filter(measurement.station == 'USC00519281').\\\n",
    "filter(measurement.date > (last_date_dt  - dt.timedelta(days=366))).all()\n",
    "# List comprehension to create date list in datetime datetype and precipitation (already in float datetype)\n",
    "dates_2 = [dt.datetime.strptime(result[0],'%Y-%m-%d') for result in results_2]\n",
    "temps = [result[1] for result in results_2]\n",
    "# Save the query results as a Pandas DataFrame and set the index to the date column\n",
    "# Sort the dataframe by date\n",
    "df_2 = pd.DataFrame(temps, index=dates_2, columns=[\"Temperature\"])\n",
    "# df.fillna(0, inplace=True)\n",
    "# df_2.dropna(inplace=True)\n",
    "df_2.sort_index(ascending=True)"
   ]
  },
  {
   "cell_type": "code",
   "execution_count": 127,
   "metadata": {},
   "outputs": [
    {
     "data": {
      "image/png": "[encoded data removed]",
      "text/plain": [
       "<Figure size 720x360 with 1 Axes>"
      ]
     },
     "metadata": {},
     "output_type": "display_data"
    }
   ],
   "source": [
    "df_2.plot(kind=\"hist\",bins=12, figsize=(10,5),legend=False, xlim=(58,85),xlabel=\"Temperature F\")\n",
    "plt.savefig('Images/temperature_histogram.png')\n",
    "plt.show()"
   ]
  },
  {
   "cell_type": "markdown",
   "metadata": {},
   "source": [
    "## Bonus Challenge Assignment"
   ]
  },
  {
   "cell_type": "code",
   "execution_count": 114,
   "metadata": {},
   "outputs": [],
   "source": [
    "# My proposed vacations dates are 2018-06-01 to 2018-06-15 (2 weeks)"
   ]
  },
  {
   "cell_type": "code",
   "execution_count": 133,
   "metadata": {},
   "outputs": [
    {
     "name": "stdout",
     "output_type": "stream",
     "text": [
      "[(67.0, 75.93636363636364, 84.0)]\n"
     ]
    }
   ],
   "source": [
    "# This function called `calc_temps` will accept start date and end date in the format '%Y-%m-%d' \n",
    "# and return the minimum, average, and maximum temperatures for that range of dates\n",
    "def calc_temps(start_date, end_date):\n",
    "    \"\"\"TMIN, TAVG, and TMAX for a list of dates.\n",
    "    \n",
    "    Args:\n",
    "        start_date (string): A date string in the format %Y-%m-%d\n",
    "        end_date (string): A date string in the format %Y-%m-%d\n",
    "        \n",
    "    Returns:\n",
    "        TMIN, TAVE, and TMAX\n",
    "    \"\"\"\n",
    "    \n",
    "    return session.query(func.min(measurement.tobs), func.avg(measurement.tobs), func.max(measurement.tobs)).\\\n",
    "        filter(measurement.date >= start_date).filter(measurement.date <= end_date).all()\n",
    "\n",
    "# function usage example\n",
    "print(calc_temps('2014-06-01','2014-06-15'))"
   ]
  },
  {
   "cell_type": "code",
   "execution_count": 134,
   "metadata": {},
   "outputs": [],
   "source": [
    "# Use your previous function `calc_temps` to calculate the tmin, tavg, and tmax \n",
    "# for your trip using the previous year's data for those same dates.\n",
    "# Start Date: '2018-06-01'\n",
    "# End Date:'2018-06-15'\n",
    "# Calculate one year prior\n",
    "start_minus_one_year = dt.datetime.strptime('2018-06-01','%Y-%m-%d') - dt.timedelta(days=366)\n",
    "end_minus_one_year = dt.datetime.strptime('2018-06-15','%Y-%m-%d') - dt.timedelta(days=366)"
   ]
  },
  {
   "cell_type": "code",
   "execution_count": 135,
   "metadata": {},
   "outputs": [
    {
     "name": "stdout",
     "output_type": "stream",
     "text": [
      "[(72.0, 77.44444444444444, 83.0)]\n"
     ]
    }
   ],
   "source": [
    "print(calc_temps(start_minus_one_year,end_minus_one_year))"
   ]
  },
  {
   "cell_type": "code",
   "execution_count": 136,
   "metadata": {},
   "outputs": [
    {
     "data": {
      "text/plain": [
       "77.44444444444444"
      ]
     },
     "execution_count": 136,
     "metadata": {},
     "output_type": "execute_result"
    }
   ],
   "source": [
    "# Plot the results from your previous query as a bar chart. \n",
    "# Use \"Trip Avg Temp\" as your Title\n",
    "# Use the average temperature for the y value\n",
    "# Use the peak-to-peak (tmax-tmin) value as the y error bar (yerr)\n",
    "calc_temps(start_minus_one_year,end_minus_one_year)[0][1]"
   ]
  },
  {
   "cell_type": "code",
   "execution_count": 137,
   "metadata": {},
   "outputs": [],
   "source": [
    "x = [\"Temperature\"]\n",
    "t_avg = calc_temps(start_minus_one_year,end_minus_one_year)[0][1]\n",
    "terr_u = abs(calc_temps(start_minus_one_year,end_minus_one_year)[0][2] - t_avg)\n",
    "terr_l = abs(calc_temps(start_minus_one_year,end_minus_one_year)[0][0] - t_avg)\n",
    "error = [[terr_l],[terr_u]]"
   ]
  },
  {
   "cell_type": "code",
   "execution_count": 140,
   "metadata": {
    "scrolled": true
   },
   "outputs": [
    {
     "data": {
      "image/png": "[encoded data removed]",
      "text/plain": [
       "<Figure size 432x288 with 1 Axes>"
      ]
     },
     "metadata": {},
     "output_type": "display_data"
    }
   ],
   "source": [
    "fig, ax = plt.subplots()\n",
    "ax.bar([0], t_avg, yerr=error, align='center', alpha=0.5, ecolor='black', capsize=10)\n",
    "ax.set_ylabel('Temperature')\n",
    "ax.set_xticks([0])\n",
    "ax.set_xticklabels(x)\n",
    "ax.set_ylim(0,100,10)\n",
    "ax.set_title('Trip temperatures')\n",
    "ax.yaxis.grid(True)\n",
    "plt.tight_layout()\n",
    "plt.savefig('Images/bar_plot_with_error_bars.png')\n",
    "plt.show()"
   ]
  },
  {
   "cell_type": "code",
   "execution_count": 141,
   "metadata": {},
   "outputs": [],
   "source": [
    "### Daily Rainfall Average\n",
    "# * Calculate the rainfall per weather station using the previous year's matching dates.\n",
    "# * Calculate the daily normals. Normals are the averages for the min, avg, and max temperatures.\n",
    "# * You are provided with a function called `daily_normals` that will calculate the daily normals for a specific date. This date string will be in the format `%m-%d`. Be sure to use all historic TOBS that match that date string.\n",
    "# * Create a list of dates for your trip in the format `%m-%d`. Use the `daily_normals` function to calculate the normals for each date string and append the results to a list.\n",
    "# * Load the list of daily normals into a Pandas DataFrame and set the index equal to the date.\n",
    "# * Use Pandas to plot an area plot (`stacked=False`) for the daily normals.\n",
    "#   ![daily-normals](Images/daily-normals.png)"
   ]
  },
  {
   "cell_type": "code",
   "execution_count": 142,
   "metadata": {},
   "outputs": [],
   "source": [
    "# Calculate the total amount of rainfall per weather station for your trip dates using the previous year's matching dates.\n",
    "# Sort this in descending order by precipitation amount and list the station, name, latitude, longitude, and elevation\n",
    "# Select desired date\n",
    "sel = [measurement.station, station.latitude, station.longitude, station.elevation, func.sum(measurement.prcp)]\n",
    "# Join tables and add filters and order by\n",
    "same_station = session.query(*sel).filter(station.station == measurement.station).\\\n",
    "filter(measurement.date >= start_minus_one_year).\\\n",
    "filter(measurement.date <= end_minus_one_year).\\\n",
    "group_by(measurement.station).\\\n",
    "order_by(func.sum(measurement.prcp).desc()).all()"
   ]
  },
  {
   "cell_type": "code",
   "execution_count": 143,
   "metadata": {},
   "outputs": [
    {
     "data": {
      "text/plain": [
       "[('USC00516128', 21.3331, -157.8025, 152.4, 3.82),\n",
       " ('USC00519281', 21.45167, -157.84888999999998, 32.9, 2.43),\n",
       " ('USC00513117', 21.4234, -157.8015, 14.6, 1.79),\n",
       " ('USC00514830', 21.5213, -157.8374, 7.0, 1.7200000000000002),\n",
       " ('USC00519523', 21.33556, -157.71139, 19.5, 0.76),\n",
       " ('USC00519397', 21.2716, -157.8168, 3.0, 0.16),\n",
       " ('USC00517948', 21.3934, -157.9751, 11.9, None)]"
      ]
     },
     "execution_count": 143,
     "metadata": {},
     "output_type": "execute_result"
    }
   ],
   "source": [
    "same_station"
   ]
  },
  {
   "cell_type": "code",
   "execution_count": 144,
   "metadata": {},
   "outputs": [
    {
     "data": {
      "text/plain": [
       "[(64.0, 74.6140350877193, 81.0)]"
      ]
     },
     "execution_count": 144,
     "metadata": {},
     "output_type": "execute_result"
    }
   ],
   "source": [
    "# Create a query that will calculate the daily normals \n",
    "# (i.e. the averages for tmin, tmax, and tavg for all historic data matching a specific month and day)\n",
    "\n",
    "def daily_normals(date):\n",
    "    \"\"\"Daily Normals.\n",
    "    \n",
    "    Args:\n",
    "        date (str): A date string in the format '%m-%d'\n",
    "        \n",
    "    Returns:\n",
    "        A list of tuples containing the daily normals, tmin, tavg, and tmax\n",
    "    \n",
    "    \"\"\"\n",
    "    \n",
    "    sel = [func.min(measurement.tobs), func.avg(measurement.tobs), func.max(measurement.tobs)]\n",
    "    return session.query(*sel).filter(func.strftime(\"%m-%d\", measurement.date) == date).all()\n",
    "    \n",
    "daily_normals(\"06-01\")"
   ]
  },
  {
   "cell_type": "code",
   "execution_count": 145,
   "metadata": {},
   "outputs": [],
   "source": [
    "# calculate the daily normals for your trip\n",
    "# push each tuple of calculations into a list called `normals`\n",
    "# Set the start and end date of the trip\n",
    "## Start Date: '2018-06-01'\n",
    "## End Date:'2018-06-21'\n",
    "# Use the start and end date to create a range of dates\n",
    "trip_dates = pd.date_range(dt.datetime.strptime('2018-06-01', '%Y-%m-%d'),dt.datetime.strptime('2018-06-21','%Y-%m-%d'))\n",
    "# Strip off the year and save a list of %m-%d strings\n",
    "normals = []\n",
    "for x, date in enumerate(trip_dates):\n",
    "    new_format = trip_dates[x].strftime(\"%m-%d\")\n",
    "    normals.append(new_format)\n",
    "# Loop through the list of %m-%d strings and calculate the normals for each date\n",
    "normals_dict = {\"Date\": [], \"Tmin\":[],\"Tavg\":[],\"Tmax\":[]}\n",
    "for normal in normals:\n",
    "    normals_dict[\"Date\"].append(normal)\n",
    "    normals_dict[\"Tmin\"].append(daily_normals(normal)[0][0])\n",
    "    normals_dict[\"Tavg\"].append(daily_normals(normal)[0][1])\n",
    "    normals_dict[\"Tmax\"].append(daily_normals(normal)[0][2])"
   ]
  },
  {
   "cell_type": "code",
   "execution_count": null,
   "metadata": {},
   "outputs": [],
   "source": []
  },
  {
   "cell_type": "code",
   "execution_count": 146,
   "metadata": {},
   "outputs": [
    {
     "data": {
      "text/html": [
       "<div>\n",
       "<style scoped>\n",
       "    .dataframe tbody tr th:only-of-type {\n",
       "        vertical-align: middle;\n",
       "    }\n",
       "\n",
       "    .dataframe tbody tr th {\n",
       "        vertical-align: top;\n",
       "    }\n",
       "\n",
       "    .dataframe thead th {\n",
       "        text-align: right;\n",
       "    }\n",
       "</style>\n",
       "<table border=\"1\" class=\"dataframe\">\n",
       "  <thead>\n",
       "    <tr style=\"text-align: right;\">\n",
       "      <th></th>\n",
       "      <th>Tavg</th>\n",
       "      <th>Tmax</th>\n",
       "      <th>Tmin</th>\n",
       "    </tr>\n",
       "  </thead>\n",
       "  <tbody>\n",
       "    <tr>\n",
       "      <th>06-01</th>\n",
       "      <td>74.614035</td>\n",
       "      <td>81.0</td>\n",
       "      <td>64.0</td>\n",
       "    </tr>\n",
       "    <tr>\n",
       "      <th>06-02</th>\n",
       "      <td>74.400000</td>\n",
       "      <td>81.0</td>\n",
       "      <td>65.0</td>\n",
       "    </tr>\n",
       "    <tr>\n",
       "      <th>06-03</th>\n",
       "      <td>74.034483</td>\n",
       "      <td>80.0</td>\n",
       "      <td>65.0</td>\n",
       "    </tr>\n",
       "    <tr>\n",
       "      <th>06-04</th>\n",
       "      <td>73.818182</td>\n",
       "      <td>81.0</td>\n",
       "      <td>65.0</td>\n",
       "    </tr>\n",
       "    <tr>\n",
       "      <th>06-05</th>\n",
       "      <td>74.854545</td>\n",
       "      <td>81.0</td>\n",
       "      <td>68.0</td>\n",
       "    </tr>\n",
       "  </tbody>\n",
       "</table>\n",
       "</div>"
      ],
      "text/plain": [
       "            Tavg  Tmax  Tmin\n",
       "06-01  74.614035  81.0  64.0\n",
       "06-02  74.400000  81.0  65.0\n",
       "06-03  74.034483  80.0  65.0\n",
       "06-04  73.818182  81.0  65.0\n",
       "06-05  74.854545  81.0  68.0"
      ]
     },
     "execution_count": 146,
     "metadata": {},
     "output_type": "execute_result"
    }
   ],
   "source": [
    "# Load the previous query results into a Pandas DataFrame and add the `trip_dates` range as the `date` index\n",
    "new_df = pd.DataFrame(normals_dict, columns={\"Tmin\",\"Tavg\",\"Tmax\"}, index=normals_dict[\"Date\"])\n",
    "new_df.head()"
   ]
  },
  {
   "cell_type": "code",
   "execution_count": 152,
   "metadata": {},
   "outputs": [
    {
     "data": {
      "image/png": "[encoded data removed]",
      "text/plain": [
       "<Figure size 432x288 with 1 Axes>"
      ]
     },
     "metadata": {},
     "output_type": "display_data"
    }
   ],
   "source": [
    "# Plot the daily normals as an area plot with `stacked=False`\n",
    "new_df.plot.area(stacked=False, xlabel=\"Date\",ylabel=\"Temperature\")\n",
    "plt.savefig('Images/daily_normals.png')\n",
    "plt.show()"
   ]
  },
  {
   "cell_type": "code",
   "execution_count": null,
   "metadata": {},
   "outputs": [],
   "source": [
    "### Temperature Analysis I\n",
    "# * Hawaii is reputed to enjoy mild weather all year. Is there a meaningful difference between the temperature in, for example, June and December?\n",
    "# * You may either use SQLAlchemy or pandas's `read_csv()` to perform this portion.\n",
    "# * Identify the average temperature in June at all stations across all available years in the dataset. Do the same for December temperature.\n",
    "# * Use the t-test to determine whether the difference in the means, if any, is statistically significant. Will you use a paired t-test, or an unpaired t-test? Why?\n",
    "# Average temperature AT all (9) stations across all years for June and December. Is there a difference?\n",
    "# Paired or Unpaired t-test"
   ]
  },
  {
   "cell_type": "code",
   "execution_count": 177,
   "metadata": {},
   "outputs": [],
   "source": [
    "# Data to be collected - Year from date, station name, average temperature\n",
    "sel = [measurement.id,func.strftime(\"%Y\", measurement.date), measurement.station, func.avg(measurement.tobs)]\n",
    "# For december data filyers applied are: month = 12 grouping by year and station\n",
    "december_temps = session.query(*sel).filter(func.strftime(\"%m\", measurement.date) == \"12\").\\\n",
    "group_by(measurement.station).group_by(func.strftime(\"%Y\", measurement.date)).all()\n",
    "# For december data filyers applied are: month = 06 grouping by year and station\n",
    "june_temps = session.query(*sel).filter(func.strftime(\"%m\", measurement.date) == \"06\").\\\n",
    "group_by(measurement.station).group_by(func.strftime(\"%Y\", measurement.date)).all()"
   ]
  },
  {
   "cell_type": "code",
   "execution_count": 194,
   "metadata": {},
   "outputs": [],
   "source": [
    "sel = [func.strftime(\"%Y\", measurement.date) + measurement.station, func.avg(measurement.tobs)]\n",
    "\n",
    "december_temps = session.query(*sel).filter(func.strftime(\"%m\", measurement.date) == \"12\").\\\n",
    "group_by(measurement.station).group_by(func.strftime(\"%Y\", measurement.date)).all()\n",
    "\n",
    "june_temps = session.query(*sel).filter(func.strftime(\"%m\", measurement.date) == \"06\").\\\n",
    "group_by(measurement.station).group_by(func.strftime(\"%Y\", measurement.date)).all()"
   ]
  },
  {
   "cell_type": "code",
   "execution_count": 255,
   "metadata": {},
   "outputs": [],
   "source": [
    "december = {temp[0]:temp[1] for temp in december_temps}\n",
    "june = {temp[0]:temp[1] for temp in june_temps}"
   ]
  },
  {
   "cell_type": "code",
   "execution_count": 256,
   "metadata": {},
   "outputs": [
    {
     "data": {
      "text/plain": [
       "57"
      ]
     },
     "execution_count": 256,
     "metadata": {},
     "output_type": "execute_result"
    }
   ],
   "source": [
    "len(december)"
   ]
  },
  {
   "cell_type": "code",
   "execution_count": 257,
   "metadata": {},
   "outputs": [
    {
     "data": {
      "text/plain": [
       "65"
      ]
     },
     "execution_count": 257,
     "metadata": {},
     "output_type": "execute_result"
    }
   ],
   "source": [
    "len(june)"
   ]
  },
  {
   "cell_type": "code",
   "execution_count": 258,
   "metadata": {},
   "outputs": [],
   "source": [
    "# Create a dict of paired observations based on the unique Year+Station ID\n",
    "paired = {\"ID\":[],\"Dec\":[],\"Jun\":[]}\n",
    "for key, value in december.items():\n",
    "     if key not in june:\n",
    "        pass\n",
    "     else:\n",
    "        paired[\"ID\"].append(key)\n",
    "        paired[\"Dec\"].append(value)\n",
    "        paired[\"Jun\"].append(june[key])"
   ]
  },
  {
   "cell_type": "code",
   "execution_count": 259,
   "metadata": {
    "scrolled": true
   },
   "outputs": [
    {
     "data": {
      "text/html": [
       "<div>\n",
       "<style scoped>\n",
       "    .dataframe tbody tr th:only-of-type {\n",
       "        vertical-align: middle;\n",
       "    }\n",
       "\n",
       "    .dataframe tbody tr th {\n",
       "        vertical-align: top;\n",
       "    }\n",
       "\n",
       "    .dataframe thead th {\n",
       "        text-align: right;\n",
       "    }\n",
       "</style>\n",
       "<table border=\"1\" class=\"dataframe\">\n",
       "  <thead>\n",
       "    <tr style=\"text-align: right;\">\n",
       "      <th></th>\n",
       "      <th>ID</th>\n",
       "      <th>Dec</th>\n",
       "      <th>Jun</th>\n",
       "    </tr>\n",
       "  </thead>\n",
       "  <tbody>\n",
       "    <tr>\n",
       "      <th>0</th>\n",
       "      <td>2010USC00511918</td>\n",
       "      <td>70.000000</td>\n",
       "      <td>75.620690</td>\n",
       "    </tr>\n",
       "    <tr>\n",
       "      <th>1</th>\n",
       "      <td>2011USC00511918</td>\n",
       "      <td>70.483871</td>\n",
       "      <td>73.433333</td>\n",
       "    </tr>\n",
       "    <tr>\n",
       "      <th>2</th>\n",
       "      <td>2012USC00511918</td>\n",
       "      <td>70.566667</td>\n",
       "      <td>75.344828</td>\n",
       "    </tr>\n",
       "    <tr>\n",
       "      <th>3</th>\n",
       "      <td>2013USC00511918</td>\n",
       "      <td>69.333333</td>\n",
       "      <td>74.933333</td>\n",
       "    </tr>\n",
       "    <tr>\n",
       "      <th>4</th>\n",
       "      <td>2014USC00511918</td>\n",
       "      <td>68.000000</td>\n",
       "      <td>73.964286</td>\n",
       "    </tr>\n",
       "  </tbody>\n",
       "</table>\n",
       "</div>"
      ],
      "text/plain": [
       "                ID        Dec        Jun\n",
       "0  2010USC00511918  70.000000  75.620690\n",
       "1  2011USC00511918  70.483871  73.433333\n",
       "2  2012USC00511918  70.566667  75.344828\n",
       "3  2013USC00511918  69.333333  74.933333\n",
       "4  2014USC00511918  68.000000  73.964286"
      ]
     },
     "execution_count": 259,
     "metadata": {},
     "output_type": "execute_result"
    }
   ],
   "source": [
    "df = pd.DataFrame(paired)\n",
    "df.head()"
   ]
  },
  {
   "cell_type": "code",
   "execution_count": 263,
   "metadata": {},
   "outputs": [
    {
     "data": {
      "image/png": "[encoded data removed]",
      "text/plain": [
       "<Figure size 432x288 with 1 Axes>"
      ]
     },
     "metadata": {},
     "output_type": "display_data"
    }
   ],
   "source": [
    "# Histogram of paired samples and sample means plotted on single axis\n",
    "plt.hist(df[\"Dec\"], bins=15, alpha=1, color=\"blue\", label=\"Dec\")\n",
    "plt.hist(df[\"Jun\"], bins=15, alpha=0.7, color=\"red\",label=\"Jun\")\n",
    "plt.axvline(df[\"Dec\"].mean(), color='k', linestyle='dashed', linewidth=1)\n",
    "plt.axvline(df[\"Jun\"].mean(), color='k', linestyle='dashed', linewidth=1)\n",
    "plt.legend()\n",
    "plt.savefig('Images/paired-t-test.png')\n",
    "plt.show()"
   ]
  },
  {
   "cell_type": "code",
   "execution_count": 265,
   "metadata": {},
   "outputs": [
    {
     "data": {
      "text/plain": [
       "74.7998777787303"
      ]
     },
     "execution_count": 265,
     "metadata": {},
     "output_type": "execute_result"
    }
   ],
   "source": [
    "df[\"Jun\"].mean()"
   ]
  },
  {
   "cell_type": "code",
   "execution_count": 264,
   "metadata": {},
   "outputs": [
    {
     "data": {
      "text/plain": [
       "71.20130171335089"
      ]
     },
     "execution_count": 264,
     "metadata": {},
     "output_type": "execute_result"
    }
   ],
   "source": [
    "df[\"Dec\"].mean()"
   ]
  },
  {
   "cell_type": "code",
   "execution_count": null,
   "metadata": {},
   "outputs": [],
   "source": [
    "# This a paired (2 sample) t-test\n",
    "# used to compare two population means where you have two samples in which \n",
    "# observations in one sample can be paired with observations in the other sample\n",
    "# In this case the pairing is same station / same year - but different month\n",
    "# Is there a statistically significant difference between the two?"
   ]
  },
  {
   "cell_type": "code",
   "execution_count": null,
   "metadata": {},
   "outputs": [],
   "source": [
    "# The null hypothesis is that T(Jun) = T(Dec)\n",
    "# null hypothesis that 2 related or repeated samples have identical average (expected) values\n",
    "# Examples for use are scores of the same set of student in different exams, or repeated sampling from the same units. \n",
    "# The test measures whether the average score differs significantly across samples (e.g. exams). \n",
    "# If we observe a large p-value, for example greater than 0.05 or 0.1 then we cannot reject the null hypothesis \n",
    "# of identical average scores. If the p-value is smaller than the threshold, e.g. 1%, 5% or 10%, then we reject \n",
    "# the null hypothesis of equal averages. Small p-values are associated with large t-statistics."
   ]
  },
  {
   "cell_type": "code",
   "execution_count": 252,
   "metadata": {
    "scrolled": true
   },
   "outputs": [
    {
     "data": {
      "text/plain": [
       "Ttest_relResult(statistic=-13.27434875934499, pvalue=8.635821572107224e-19)"
      ]
     },
     "execution_count": 252,
     "metadata": {},
     "output_type": "execute_result"
    }
   ],
   "source": [
    "import scipy.stats as stats\n",
    "stats.ttest_rel(df[\"Dec\"], df[\"Jun\"])"
   ]
  },
  {
   "cell_type": "code",
   "execution_count": null,
   "metadata": {},
   "outputs": [],
   "source": [
    "# If we observe a large p-value, for example greater than 0.05 or 0.1 then we cannot reject the null hypothesis \n",
    "# of identical average scores. If the p-value is smaller than the threshold, e.g. 1%, 5% or 10%, then we reject \n",
    "# the null hypothesis of equal averages\n",
    "# The December and June temperatures ARE statiscally different (the histogram seems to support this)."
   ]
  }
 ],
 "metadata": {
  "kernel_info": {
   "name": "python3"
  },
  "kernelspec": {
   "display_name": "Python 3",
   "language": "python",
   "name": "python3"
  },
  "language_info": {
   "codemirror_mode": {
    "name": "ipython",
    "version": 3
   },
   "file_extension": ".py",
   "mimetype": "text/x-python",
   "name": "python",
   "nbconvert_exporter": "python",
   "pygments_lexer": "ipython3",
   "version": "3.8.5"
  },
  "nteract": {
   "version": "0.12.3"
  },
  "varInspector": {
   "cols": {
    "lenName": 16,
    "lenType": 16,
    "lenVar": 40
   },
   "kernels_config": {
    "python": {
     "delete_cmd_postfix": "",
     "delete_cmd_prefix": "del ",
     "library": "var_list.py",
     "varRefreshCmd": "print(var_dic_list())"
    },
    "r": {
     "delete_cmd_postfix": ") ",
     "delete_cmd_prefix": "rm(",
     "library": "var_list.r",
     "varRefreshCmd": "cat(var_dic_list()) "
    }
   },
   "types_to_exclude": [
    "module",
    "function",
    "builtin_function_or_method",
    "instance",
    "_Feature"
   ],
   "window_display": false
  }
 },
 "nbformat": 4,
 "nbformat_minor": 2
}
